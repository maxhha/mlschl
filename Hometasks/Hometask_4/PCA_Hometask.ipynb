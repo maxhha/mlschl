{
 "cells": [
  {
   "cell_type": "markdown",
   "metadata": {},
   "source": [
    "# PCA: Свой jpeg с блекджеком  и куртизантками"
   ]
  },
  {
   "cell_type": "markdown",
   "metadata": {},
   "source": [
    "<img src='https://cs.pikabu.ru/post_img/2013/08/07/10/1375893075_408844834.jpg' width=400>"
   ]
  },
  {
   "cell_type": "markdown",
   "metadata": {},
   "source": [
    "### 1. Как работает jpeg: в двух словах\n",
    "\n",
    "Все изображение делится на квадраты 8х8 а затем каждый кусочек представляется в виде суммы из базисных кусочков \n",
    "(базисных векторов фурье-преобразования). \n",
    "Выбор именно такого базиса обусловлен универсальностью, но не обязательно наиболее выгоден для того или иного изображения. \n",
    "\n",
    "Выглядят базисные вектора jpeg вот так:\n",
    "<img src='https://upload.wikimedia.org/wikipedia/commons/2/24/DCT-8x8.png' width=300>\n",
    "\n",
    "Для тех кто хочет подробнее https://habrahabr.ru/post/206264/\n",
    "\n",
    "(На самом деле там есть еще несколько этапов но нас интересует именно разложение в базис)\n",
    "\n",
    "### 2. Задание\n",
    "В качестве интересного способа практического применения PCA предлагаю вам сделать разложение на вектора, оптимальные для конкретного изображения (или набора изображений). Эти вектора мы можем легко получить, воспользовавшись SVD разложением.\n",
    "\n",
    "Схема следующая:\n",
    "\n",
    "Входные параметры - размер кусочков $n$ количество базисных векторов $d$\n",
    "1. Разбиваем изображение на кусочки $n\\times n$. всего получим $q=\\frac{width*height}{n^2}$ кусочков\n",
    "2. К каждому кусочку применяем `np.array.flatten()`. В итогe получаем матрицу $X$ размера $n^2\\times q$\n",
    "3. Делаем PCA, оставляем только $d$ компонент с наибольшими собственными значениями, получаем матрицу $d \\times q$.(см код семинара)\n",
    "4. Получившиеся вектора размера d переводим обратно в пространство размерности $n^2$ (см. код семинара)\n",
    "5. применяем `numpy.reshape((n,n))`, cклеиваем кусочки обратно в том же порядке, что и разбивали\n",
    "6. Выводим картинку и наслаждаемся результатом.\n",
    "6. Визуализируем базисные вектора и сравниваем с джипеговскими (функция для визуализации прилагается)\n",
    "\n",
    "Во время выполнения задания следите за размерностями матриц, чтоб избежать ошибок"
   ]
  },
  {
   "cell_type": "markdown",
   "metadata": {},
   "source": [
    "### 3. Эксперименты\n",
    "1. Посмотреть как меняется энтропия изображения и какая степень сжатия\n",
    "2. Найти оптимальный размер $n$ и количество векторов $d$ \n",
    "3. Сравнить такой способ сжатия с <a href=\"https://docs.python.org/2/library/jpeg.html\">jpeg</a>\n",
    "4. Вычесть из исходного изображения сжатое, чтоб посмотреть какие пиксели отличаются.\n",
    "\n",
    "\n",
    "### 4. Идеи для дальнейшего развития\n",
    "1. Что если делить на маленькие квадраты, сжимать их не очень сильно, а получившиеся вектора меньшей размерности соединять в \"большие квадраты\" и к ним еще раз применять PCA (а потом еще раз и еще раз)?\n",
    "2. Что если в случае маленькой дисперсии объединять квадраты в один и раскладывать в базис уже его?\n",
    "3. Что если сделать параметром не количество базисных векторов а пороговую дисперсию? Иными словами - выбирать $d$ в зависимости от дисперии кусочка.\n",
    "4. Что если сверточные сети обучать на таком представлении (матрица $d \\times q$)?\n",
    "\n",
    "Если возникли какие-то сложности пишите мне http://t.me/danlkv http://vk.com/danilozzz\n",
    "\n",
    "Если получилось реализовать что-то из идей тоже пишите, мне самому очень интересно что будет.\n",
    "\n",
    "Успехов!"
   ]
  },
  {
   "cell_type": "code",
   "execution_count": null,
   "metadata": {},
   "outputs": [],
   "source": []
  },
  {
   "cell_type": "code",
   "execution_count": 32,
   "metadata": {},
   "outputs": [
    {
     "data": {
      "image/png": "[encoded data removed]",
      "text/plain": [
       "<matplotlib.figure.Figure at 0x7f257d919b38>"
      ]
     },
     "metadata": {},
     "output_type": "display_data"
    }
   ],
   "source": [
    "import numpy as np\n",
    "import matplotlib.pyplot as plt\n",
    "\n",
    "def plot_images_table(imgs, columns=8):\n",
    "    n=len(imgs)\n",
    "    h = (n-1)//columns+1\n",
    "    f,ax=plt.subplots(h,columns,figsize=(10,10*h/columns))\n",
    "    for i in range(1,n+1):\n",
    "        ax[(i-1)//columns,i%columns-1].imshow(imgs[i-1],cmap='gray')\n",
    "        \n",
    "tt = np.random.randn(15,20,20)\n",
    "plot_images_table(tt)"
   ]
  },
  {
   "cell_type": "code",
   "execution_count": 1,
   "metadata": {},
   "outputs": [],
   "source": [
    "import requests\n",
    "from PIL import Image\n",
    "from io import BytesIO\n",
    "# функция скачивает изображение по ссылке\n",
    "def get_image(url):\n",
    "    print(\"making request\")\n",
    "    r = requests.get(url)\n",
    "    strio = BytesIO(r.content)\n",
    "    i = Image.open(strio)\n",
    "    print(\"got image with size %s\"%str(np.array(i).shape))\n",
    "    return i"
   ]
  },
  {
   "cell_type": "code",
   "execution_count": 3,
   "metadata": {},
   "outputs": [],
   "source": [
    "# Эту функцию можно очень просто модифицировать для идеи #3\n",
    "def pca(X,num_components):\n",
    "    X=np.array([l-np.mean(l) for l in X]) # Вычитаем среднее\n",
    "    U,s,V=np.linalg.svd(X)                # Находим собственные вектора\n",
    "    eps=np.sort(s)[-num_components]       # пороговое собственное значение (служебная строчка) \n",
    "    E = np.array([vec for val,vec in zip(s,V)\n",
    "                  if val>eps])            # берем только важные вектора   (с большими собственными значениями)\n",
    "    X_=np.dot(E,X.T).T                    # Преобразуем данные\n",
    "    return X_,E"
   ]
  },
  {
   "cell_type": "code",
   "execution_count": 4,
   "metadata": {},
   "outputs": [],
   "source": [
    "# Получаем изображение, разбиваем на кусочки"
   ]
  },
  {
   "cell_type": "code",
   "execution_count": 5,
   "metadata": {},
   "outputs": [],
   "source": [
    "# Готовим матрицу объекторв, делаем PCA\n"
   ]
  },
  {
   "cell_type": "code",
   "execution_count": 6,
   "metadata": {},
   "outputs": [],
   "source": [
    "# Переводим закодированные кусочки обратно в пространство где они имеют смысл изображения\n"
   ]
  },
  {
   "cell_type": "code",
   "execution_count": 7,
   "metadata": {},
   "outputs": [],
   "source": [
    "# Выводим картинку"
   ]
  },
  {
   "cell_type": "code",
   "execution_count": 8,
   "metadata": {},
   "outputs": [],
   "source": [
    "# Выводим базисные вектора"
   ]
  },
  {
   "cell_type": "code",
   "execution_count": null,
   "metadata": {},
   "outputs": [],
   "source": [
    "# Эксперименты"
   ]
  }
 ],
 "metadata": {
  "kernelspec": {
   "display_name": "Python 3",
   "language": "python",
   "name": "python3"
  },
  "language_info": {
   "codemirror_mode": {
    "name": "ipython",
    "version": 3
   },
   "file_extension": ".py",
   "mimetype": "text/x-python",
   "name": "python",
   "nbconvert_exporter": "python",
   "pygments_lexer": "ipython3",
   "version": "3.5.2"
  }
 },
 "nbformat": 4,
 "nbformat_minor": 2
}

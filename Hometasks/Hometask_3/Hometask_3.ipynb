{
 "cells": [
  {
   "cell_type": "markdown",
   "metadata": {},
   "source": [
    "# Домашнее задание 3\n",
    "### Линейная и логистическая регрессия\n",
    "\n",
    "Оформление дз:\n",
    "Присылайте выполненное на почту `mlphystech@gmail.com` файлы .pdf и .ipynb или ссылку на свой гитхаб.\n",
    "\n**Дедлайн: 11 апреля 23:59**\n",
    "\n",
    "*Зуева Надежда*\n",
    "\n",
    "ФИВТ МФТИ\n",
    "\n",
    "Это задание будет посвящено линейной и логистической регрессии.\n",
    "Мы надеемся, что вы уже знаете, что такое `kaggle`, так как сегодня нам предстоит поработать с самым *классическим* датасетом машинного обучения, а именно $-$ с Титаником!\n",
    "\n",
    "\n",
    "Цель соревнования $-$ предсказать, кто из пассажиров выживет, а кто, увы, нет.\n",
    "\n",
    "https://www.kaggle.com/c/titanic"
   ]
  },
  {
   "cell_type": "markdown",
   "metadata": {},
   "source": [
    "## Теоретические вопросы\n",
    "### 2 балла (по 0.5 за каждый верный ответ)\n",
    "1. Что такое линейные модели классификации и регрессии? В чем их основные свойства? Где хорошо работают?\n",
    "2. Что такое регуляризация и как она используется? \n",
    "3. Что такое MSE? Приведите пример.\n",
    "4. Что такое градиентный спуск? Опишите базовый алгоритм работы.\n",
    "\n",
    "P.S. просьба не копипастить из Википедии. Это все легко вычисляется и будет караться :)"
   ]
  },
  {
   "cell_type": "markdown",
   "metadata": {},
   "source": [
    "## Задание 1 (4 балла)\n",
    "Скачайте файлы `train.csv` и `test.csv`.\n",
    "\n",
    "Выведите первые 10 строк из `train.csv`"
   ]
  },
  {
   "cell_type": "code",
   "execution_count": 134,
   "metadata": {},
   "outputs": [],
   "source": [
    "import pandas\n",
    "from copy import deepcopy\n",
    "import numpy as np\n",
    "import pandas as pd\n",
    "\n",
    "data = #считайте данные из файла train.csv\n"
   ]
  },
  {
   "cell_type": "code",
   "execution_count": 226,
   "metadata": {
    "scrolled": false
   },
   "outputs": [],
   "source": [
    "#выведите первые 10 строк из data"
   ]
  },
  {
   "cell_type": "markdown",
   "metadata": {},
   "source": [
    "Как мы видим, не все данные *\n",
    "\n",
    "полны*. Например, это видно в столбце `Age`. \n",
    "В качестве простейшего решения мы предлагаем заменить пропущенные значения на медианные (функция `numpy.median`)\n",
    "Вы можете воспользоваться нашим методом или произвести собственный анализ и заменить значения более умным способом (profit: бонусные баллы)."
   ]
  },
  {
   "cell_type": "code",
   "execution_count": 116,
   "metadata": {},
   "outputs": [],
   "source": [
    "# Replace all the missing ages in the data with the median age\n",
    "df = deepcopy(data)\n",
    "df[\"Age\"] = df[\"Age\"].fillna(df[\"Age\"].median())"
   ]
  },
  {
   "cell_type": "markdown",
   "metadata": {},
   "source": [
    "Теперь займемся **оцифровкой признаков**\n",
    "\n",
    "Кстати, напомните, а зачем нам это нужно? :)\n",
    "\n",
    "$*$ ваш ответ $*$\n",
    "\n",
    "Какой параметр здесь бинарный? Оцифруйте его при помощи нулей и единиц."
   ]
  },
  {
   "cell_type": "code",
   "execution_count": null,
   "metadata": {},
   "outputs": [],
   "source": [
    "df.loc[df[\"Sex\"] == \"male\", \"Sex\"] = #тут что-то должно быть\n",
    "df.loc[df[\"Sex\"] == \"female\", \"Sex\"] = #тут что-то должно быть"
   ]
  },
  {
   "cell_type": "markdown",
   "metadata": {},
   "source": [
    "Выведите описание нашего датасета после изменений с помощью функции `describe`.\n",
    "Сколько процентов пассажиров выжило? Каков был средний возраст всех пассажиров?"
   ]
  },
  {
   "cell_type": "code",
   "execution_count": 118,
   "metadata": {
    "scrolled": false
   },
   "outputs": [
    {
     "name": "stdout",
     "output_type": "stream",
     "text": [
      "       PassengerId    Survived      Pclass         Age       SibSp  \\\n",
      "count   891.000000  891.000000  891.000000  891.000000  891.000000   \n",
      "mean    446.000000    0.383838    2.308642   29.361582    0.523008   \n",
      "std     257.353842    0.486592    0.836071   13.019697    1.102743   \n",
      "min       1.000000    0.000000    1.000000    0.420000    0.000000   \n",
      "25%     223.500000    0.000000    2.000000   22.000000    0.000000   \n",
      "50%     446.000000    0.000000    3.000000   28.000000    0.000000   \n",
      "75%     668.500000    1.000000    3.000000   35.000000    1.000000   \n",
      "max     891.000000    1.000000    3.000000   80.000000    8.000000   \n",
      "\n",
      "            Parch        Fare  \n",
      "count  891.000000  891.000000  \n",
      "mean     0.381594   32.204208  \n",
      "std      0.806057   49.693429  \n",
      "min      0.000000    0.000000  \n",
      "25%      0.000000    7.910400  \n",
      "50%      0.000000   14.454200  \n",
      "75%      0.000000   31.000000  \n",
      "max      6.000000  512.329200  \n"
     ]
    }
   ],
   "source": [
    "print (#тут ваш код)"
   ]
  },
  {
   "cell_type": "markdown",
   "metadata": {},
   "source": [
    "Продолжим заполнять пропуски. Рассмотрим графу пунктов отправления `Embarked` \n",
    "\n",
    "Там есть типы данных:\n",
    "\n",
    "C = Cherbourg, Q = Queenstown, S = Southampton, а также `nan`"
   ]
  },
  {
   "cell_type": "code",
   "execution_count": 119,
   "metadata": {},
   "outputs": [
    {
     "name": "stdout",
     "output_type": "stream",
     "text": [
      "['S' 'C' 'Q' nan]\n"
     ]
    }
   ],
   "source": [
    "print (df[\"Embarked\"].unique())"
   ]
  },
  {
   "cell_type": "code",
   "execution_count": 120,
   "metadata": {},
   "outputs": [
    {
     "name": "stdout",
     "output_type": "stream",
     "text": [
      "Counter({'S': 644, 'C': 168, 'Q': 77, nan: 2})\n"
     ]
    }
   ],
   "source": [
    "import collections\n",
    "print(collections.Counter(df['Embarked']))"
   ]
  },
  {
   "cell_type": "markdown",
   "metadata": {},
   "source": [
    "С учетом последней ячейки заполните пропущенные значения по своему усмотрению. Объясните свой выбор, затем оцифруйте признак `Embarked` \n",
    "\n",
    "Например, заменив все на {0,1,2} или {12,42,10}, как хотите :)"
   ]
  },
  {
   "cell_type": "code",
   "execution_count": 121,
   "metadata": {},
   "outputs": [],
   "source": [
    "df[\"Embarked\"] = df[\"Embarked\"].fillna(\"S\")\n",
    "#тут ваш код c оцифровкой "
   ]
  },
  {
   "cell_type": "markdown",
   "metadata": {},
   "source": [
    "Разобьем выборку на `X` и `y`, где для`y` будем строить предсказания"
   ]
  },
  {
   "cell_type": "code",
   "execution_count": 123,
   "metadata": {
    "scrolled": true
   },
   "outputs": [
    {
     "name": "stdout",
     "output_type": "stream",
     "text": [
      "Index(['PassengerId', 'Survived', 'Pclass', 'Name', 'Sex', 'Age', 'SibSp',\n",
      "       'Parch', 'Ticket', 'Fare', 'Cabin', 'Embarked'],\n",
      "      dtype='object')\n"
     ]
    }
   ],
   "source": [
    "print(df.columns)"
   ]
  },
  {
   "cell_type": "code",
   "execution_count": 137,
   "metadata": {},
   "outputs": [],
   "source": [
    "y = pd.Series(df['Survived'])"
   ]
  },
  {
   "cell_type": "code",
   "execution_count": 139,
   "metadata": {},
   "outputs": [],
   "source": [
    "X = #тут ваш код"
   ]
  },
  {
   "cell_type": "markdown",
   "metadata": {},
   "source": [
    "Каким образом можно отобрать фичи, которые будут влиять на наш скор? Тут нам помогут ваш жизненный опыт и ` Recursive Feature Elimination` из библиотеки `Sklearn` "
   ]
  },
  {
   "cell_type": "code",
   "execution_count": 146,
   "metadata": {},
   "outputs": [],
   "source": [
    "from sklearn.feature_selection import RFE\n",
    "from sklearn.linear_model import LogisticRegression, LinearRegression\n",
    "model = LinearRegression(#тут можно подбирать параметры для повышения скора)\n",
    "#тут ваш код"
   ]
  },
  {
   "cell_type": "markdown",
   "metadata": {},
   "source": [
    "Проверьте, похожи ли отобранные вами фичи на те, что представленны ниже?"
   ]
  },
  {
   "cell_type": "code",
   "execution_count": 149,
   "metadata": {},
   "outputs": [],
   "source": [
    "features = [\"Pclass\", \"Sex\", \"Age\", \"SibSp\", \"Parch\", \"Fare\", \"Embarked\"]"
   ]
  },
  {
   "cell_type": "code",
   "execution_count": 152,
   "metadata": {},
   "outputs": [],
   "source": [
    "kfold = KFold(df.shape[0], n_folds=3, random_state=1)"
   ]
  },
  {
   "cell_type": "markdown",
   "metadata": {},
   "source": [
    "Выполним предсказания:"
   ]
  },
  {
   "cell_type": "code",
   "execution_count": 160,
   "metadata": {
    "scrolled": true
   },
   "outputs": [
    {
     "name": "stdout",
     "output_type": "stream",
     "text": [
      "Скор для линейной регрессии: 0.7833894500561167\n"
     ]
    }
   ],
   "source": [
    "predicts = []\n",
    "for train, test in kfold:\n",
    "   #тут ваш код\n",
    "predicts = np.concatenate(predicts)\n",
    "\n",
    "#print (predicts)\n",
    "\n",
    "predicts[predicts > 0.5],predicts[predicts < 0.5] = 1,0\n",
    "\n",
    "\n",
    "accuracy = np.count_nonzero(df[\"Survived\"] == predicts)/df[\"Survived\"].count()\n",
    "print ('Скор для линейной регрессии:',accuracy)\n"
   ]
  },
  {
   "cell_type": "markdown",
   "metadata": {},
   "source": [
    "## Задание 2 (2 балла)\n",
    "Теперь попробуем проделать то же самое для **логистической регрессии**\n",
    "\n",
    "http://scikit-learn.org/stable/modules/generated/sklearn.linear_model.LogisticRegression.html"
   ]
  },
  {
   "cell_type": "code",
   "execution_count": 222,
   "metadata": {},
   "outputs": [],
   "source": [
    "model = LogisticRegression(#тут можно подбирать параметры для повышения скора)"
   ]
  },
  {
   "cell_type": "markdown",
   "metadata": {},
   "source": [
    "Вычислим оценку точности для всех кросс-валидационных фолдов: возвращаем массив баллов из 3-х фолдов"
   ]
  },
  {
   "cell_type": "code",
   "execution_count": 223,
   "metadata": {},
   "outputs": [
    {
     "name": "stdout",
     "output_type": "stream",
     "text": [
      "Скор для логистической регрессии: 0.7957351290684623\n"
     ]
    }
   ],
   "source": [
    "#тут ваш код\n",
    "\n",
    "print(\"Скор для логистической регрессии: \" + str(scores.mean()))"
   ]
  },
  {
   "cell_type": "markdown",
   "metadata": {},
   "source": [
    "###### Как бы вы объяснили прирост качества в логистической регрессии? \n",
    "Сможете побить наш бейзлайн? :)"
   ]
  },
  {
   "cell_type": "markdown",
   "metadata": {},
   "source": [
    "## Задание 3 (1.5 балла)\n",
    "Отправьте ваше решение в тестирующую систему и посмотрите, какое место вы займете"
   ]
  },
  {
   "cell_type": "markdown",
   "metadata": {},
   "source": [
    "рассмотрим `test.csv`"
   ]
  },
  {
   "cell_type": "code",
   "execution_count": 224,
   "metadata": {},
   "outputs": [
    {
     "name": "stdout",
     "output_type": "stream",
     "text": [
      "       PassengerId      Pclass         Age       SibSp       Parch        Fare\n",
      "count   418.000000  418.000000  332.000000  418.000000  418.000000  417.000000\n",
      "mean   1100.500000    2.265550   30.272590    0.447368    0.392344   35.627188\n",
      "std     120.810458    0.841838   14.181209    0.896760    0.981429   55.907576\n",
      "min     892.000000    1.000000    0.170000    0.000000    0.000000    0.000000\n",
      "25%     996.250000    1.000000         NaN    0.000000    0.000000         NaN\n",
      "50%    1100.500000    3.000000         NaN    0.000000    0.000000         NaN\n",
      "75%    1204.750000    3.000000         NaN    1.000000    0.000000         NaN\n",
      "max    1309.000000    3.000000   76.000000    8.000000    9.000000  512.329200\n"
     ]
    },
    {
     "name": "stderr",
     "output_type": "stream",
     "text": [
      "/home/nestyme/anaconda3/lib/python3.5/site-packages/numpy/lib/function_base.py:4291: RuntimeWarning: Invalid value encountered in percentile\n",
      "  interpolation=interpolation)\n"
     ]
    }
   ],
   "source": [
    "df_test = pandas.read_csv(\"test.csv\")\n",
    "print(df_test.describe())"
   ]
  },
  {
   "cell_type": "markdown",
   "metadata": {},
   "source": [
    "Надо вернуть оцифрованные данные к первоначальному виду:"
   ]
  },
  {
   "cell_type": "code",
   "execution_count": 225,
   "metadata": {},
   "outputs": [
    {
     "name": "stdout",
     "output_type": "stream",
     "text": [
      "['Q' 'S' 'C']\n"
     ]
    }
   ],
   "source": [
    "#тут ваш код по возвращению оцифрованных параметров в первоначальный вид\n",
    "\n",
    "df_test[\"Fare\"] = df_test[\"Fare\"].fillna(df_test[\"Fare\"].median())\n",
    "\n",
    "model.fit(#тут ваш код)\n",
    "predicts = model.predict(#тут ваш код)\n",
    "\n",
    "submission = pandas.DataFrame({\n",
    "    \"PassengerId\": df_test[\"PassengerId\"],\n",
    "    \"Survived\": predicts\n",
    "})\n",
    "\n",
    "submission.to_csv(\"submission.csv\", index=False) #вот это отправляется в каггл"
   ]
  },
  {
   "cell_type": "markdown",
   "metadata": {},
   "source": [
    "Можете попробовать и дальше \"поиграться\" с параметрами, чтобы подняться в лидерборде. Например, попробовать подобрать параметры в регрессорах. \n",
    "Удачи!\n",
    "    Напоминаем, что справку по любой функции (в том числе и по регрессорам) можно получить, если с наведенным курсором на функцию нажать `Tab`+`Shift`"
   ]
  },
  {
   "cell_type": "code",
   "execution_count": null,
   "metadata": {},
   "outputs": [],
   "source": []
  }
 ],
 "metadata": {
  "anaconda-cloud": {},
  "kernelspec": {
   "display_name": "Python [conda env:anaconda3]",
   "language": "python",
   "name": "conda-env-anaconda3-py"
  },
  "language_info": {
   "codemirror_mode": {
    "name": "ipython",
    "version": 3
   },
   "file_extension": ".py",
   "mimetype": "text/x-python",
   "name": "python",
   "nbconvert_exporter": "python",
   "pygments_lexer": "ipython3",
   "version": "3.5.2"
  }
 },
 "nbformat": 4,
 "nbformat_minor": 2
}
